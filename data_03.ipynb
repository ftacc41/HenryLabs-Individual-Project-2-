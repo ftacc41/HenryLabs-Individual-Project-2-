{
 "cells": [
  {
   "cell_type": "code",
   "execution_count": null,
   "metadata": {},
   "outputs": [],
   "source": [
    "import pandas as pd"
   ]
  },
  {
   "cell_type": "code",
   "execution_count": 4,
   "metadata": {},
   "outputs": [],
   "source": [
    "accesos_cada_100 = pd.read_csv('datasets/Penetracion_internet_fijo(c:100 hogares).csv',delimiter = ',',encoding = \"utf-8\")"
   ]
  },
  {
   "cell_type": "code",
   "execution_count": 5,
   "metadata": {},
   "outputs": [
    {
     "data": {
      "text/html": [
       "<div>\n",
       "<style scoped>\n",
       "    .dataframe tbody tr th:only-of-type {\n",
       "        vertical-align: middle;\n",
       "    }\n",
       "\n",
       "    .dataframe tbody tr th {\n",
       "        vertical-align: top;\n",
       "    }\n",
       "\n",
       "    .dataframe thead th {\n",
       "        text-align: right;\n",
       "    }\n",
       "</style>\n",
       "<table border=\"1\" class=\"dataframe\">\n",
       "  <thead>\n",
       "    <tr style=\"text-align: right;\">\n",
       "      <th></th>\n",
       "      <th>Año</th>\n",
       "      <th>Trimestre</th>\n",
       "      <th>Provincia</th>\n",
       "      <th>Accesos por cada 100 hogares</th>\n",
       "    </tr>\n",
       "  </thead>\n",
       "  <tbody>\n",
       "    <tr>\n",
       "      <th>354</th>\n",
       "      <td>2018</td>\n",
       "      <td>3</td>\n",
       "      <td>San Luis</td>\n",
       "      <td>52,35</td>\n",
       "    </tr>\n",
       "    <tr>\n",
       "      <th>494</th>\n",
       "      <td>2017</td>\n",
       "      <td>1</td>\n",
       "      <td>Neuquén</td>\n",
       "      <td>61,02</td>\n",
       "    </tr>\n",
       "    <tr>\n",
       "      <th>71</th>\n",
       "      <td>2021</td>\n",
       "      <td>3</td>\n",
       "      <td>Tucumán</td>\n",
       "      <td>54,64</td>\n",
       "    </tr>\n",
       "    <tr>\n",
       "      <th>483</th>\n",
       "      <td>2017</td>\n",
       "      <td>1</td>\n",
       "      <td>Chaco</td>\n",
       "      <td>28,62</td>\n",
       "    </tr>\n",
       "    <tr>\n",
       "      <th>215</th>\n",
       "      <td>2020</td>\n",
       "      <td>1</td>\n",
       "      <td>Tucumán</td>\n",
       "      <td>47,85</td>\n",
       "    </tr>\n",
       "    <tr>\n",
       "      <th>23</th>\n",
       "      <td>2022</td>\n",
       "      <td>1</td>\n",
       "      <td>Tucumán</td>\n",
       "      <td>57,39</td>\n",
       "    </tr>\n",
       "    <tr>\n",
       "      <th>398</th>\n",
       "      <td>2018</td>\n",
       "      <td>1</td>\n",
       "      <td>Neuquén</td>\n",
       "      <td>61,52</td>\n",
       "    </tr>\n",
       "    <tr>\n",
       "      <th>35</th>\n",
       "      <td>2021</td>\n",
       "      <td>4</td>\n",
       "      <td>La Rioja</td>\n",
       "      <td>77,92</td>\n",
       "    </tr>\n",
       "    <tr>\n",
       "      <th>65</th>\n",
       "      <td>2021</td>\n",
       "      <td>3</td>\n",
       "      <td>San Juan</td>\n",
       "      <td>39,46</td>\n",
       "    </tr>\n",
       "    <tr>\n",
       "      <th>677</th>\n",
       "      <td>2015</td>\n",
       "      <td>1</td>\n",
       "      <td>Córdoba</td>\n",
       "      <td>54,7</td>\n",
       "    </tr>\n",
       "  </tbody>\n",
       "</table>\n",
       "</div>"
      ],
      "text/plain": [
       "      Año  Trimestre Provincia Accesos por cada 100 hogares\n",
       "354  2018          3  San Luis                        52,35\n",
       "494  2017          1   Neuquén                        61,02\n",
       "71   2021          3   Tucumán                        54,64\n",
       "483  2017          1     Chaco                        28,62\n",
       "215  2020          1   Tucumán                        47,85\n",
       "23   2022          1   Tucumán                        57,39\n",
       "398  2018          1   Neuquén                        61,52\n",
       "35   2021          4  La Rioja                        77,92\n",
       "65   2021          3  San Juan                        39,46\n",
       "677  2015          1   Córdoba                         54,7"
      ]
     },
     "execution_count": 5,
     "metadata": {},
     "output_type": "execute_result"
    }
   ],
   "source": [
    "accesos_cada_100.sample(10)"
   ]
  },
  {
   "cell_type": "code",
   "execution_count": 6,
   "metadata": {},
   "outputs": [
    {
     "data": {
      "text/plain": [
       "Año                             0\n",
       "Trimestre                       0\n",
       "Provincia                       0\n",
       "Accesos por cada 100 hogares    0\n",
       "dtype: int64"
      ]
     },
     "execution_count": 6,
     "metadata": {},
     "output_type": "execute_result"
    }
   ],
   "source": [
    "accesos_cada_100.isnull().sum()"
   ]
  },
  {
   "cell_type": "code",
   "execution_count": 8,
   "metadata": {},
   "outputs": [
    {
     "data": {
      "text/plain": [
       "Año                              int64\n",
       "Trimestre                        int64\n",
       "Provincia                       object\n",
       "Accesos por cada 100 hogares    object\n",
       "dtype: object"
      ]
     },
     "execution_count": 8,
     "metadata": {},
     "output_type": "execute_result"
    }
   ],
   "source": [
    "accesos_cada_100.dtypes"
   ]
  },
  {
   "cell_type": "code",
   "execution_count": 9,
   "metadata": {},
   "outputs": [],
   "source": [
    "\n",
    "accesos_cada_100 = accesos_cada_100.astype({'Provincia': 'string'})"
   ]
  },
  {
   "cell_type": "code",
   "execution_count": 10,
   "metadata": {},
   "outputs": [
    {
     "data": {
      "text/plain": [
       "Año                              int64\n",
       "Trimestre                        int64\n",
       "Provincia                       string\n",
       "Accesos por cada 100 hogares    object\n",
       "dtype: object"
      ]
     },
     "execution_count": 10,
     "metadata": {},
     "output_type": "execute_result"
    }
   ],
   "source": [
    "accesos_cada_100.dtypes"
   ]
  },
  {
   "cell_type": "code",
   "execution_count": 11,
   "metadata": {},
   "outputs": [],
   "source": [
    "accesos_cada_100['Accesos por cada 100 hogares'] = accesos_cada_100['Accesos por cada 100 hogares'].replace(',','.',regex=True)"
   ]
  },
  {
   "cell_type": "code",
   "execution_count": 51,
   "metadata": {},
   "outputs": [
    {
     "data": {
      "text/html": [
       "<div>\n",
       "<style scoped>\n",
       "    .dataframe tbody tr th:only-of-type {\n",
       "        vertical-align: middle;\n",
       "    }\n",
       "\n",
       "    .dataframe tbody tr th {\n",
       "        vertical-align: top;\n",
       "    }\n",
       "\n",
       "    .dataframe thead th {\n",
       "        text-align: right;\n",
       "    }\n",
       "</style>\n",
       "<table border=\"1\" class=\"dataframe\">\n",
       "  <thead>\n",
       "    <tr style=\"text-align: right;\">\n",
       "      <th></th>\n",
       "      <th>Año</th>\n",
       "      <th>Trimestre</th>\n",
       "      <th>Provincia</th>\n",
       "      <th>Accesos por cada 100 hogares</th>\n",
       "    </tr>\n",
       "  </thead>\n",
       "  <tbody>\n",
       "    <tr>\n",
       "      <th>682</th>\n",
       "      <td>2015</td>\n",
       "      <td>1</td>\n",
       "      <td>La Pampa</td>\n",
       "      <td>55.51</td>\n",
       "    </tr>\n",
       "    <tr>\n",
       "      <th>22</th>\n",
       "      <td>2022</td>\n",
       "      <td>1</td>\n",
       "      <td>Tierra Del Fuego</td>\n",
       "      <td>98.29</td>\n",
       "    </tr>\n",
       "    <tr>\n",
       "      <th>759</th>\n",
       "      <td>2014</td>\n",
       "      <td>2</td>\n",
       "      <td>Río Negro</td>\n",
       "      <td>45.33</td>\n",
       "    </tr>\n",
       "    <tr>\n",
       "      <th>665</th>\n",
       "      <td>2015</td>\n",
       "      <td>2</td>\n",
       "      <td>San Juan</td>\n",
       "      <td>27.64</td>\n",
       "    </tr>\n",
       "    <tr>\n",
       "      <th>753</th>\n",
       "      <td>2014</td>\n",
       "      <td>2</td>\n",
       "      <td>Jujuy</td>\n",
       "      <td>18.71</td>\n",
       "    </tr>\n",
       "    <tr>\n",
       "      <th>419</th>\n",
       "      <td>2017</td>\n",
       "      <td>4</td>\n",
       "      <td>La Rioja</td>\n",
       "      <td>51.57</td>\n",
       "    </tr>\n",
       "    <tr>\n",
       "      <th>642</th>\n",
       "      <td>2015</td>\n",
       "      <td>3</td>\n",
       "      <td>San Luis</td>\n",
       "      <td>9.71</td>\n",
       "    </tr>\n",
       "    <tr>\n",
       "      <th>695</th>\n",
       "      <td>2015</td>\n",
       "      <td>1</td>\n",
       "      <td>Tucumán</td>\n",
       "      <td>35.08</td>\n",
       "    </tr>\n",
       "    <tr>\n",
       "      <th>471</th>\n",
       "      <td>2017</td>\n",
       "      <td>2</td>\n",
       "      <td>Río Negro</td>\n",
       "      <td>46.02</td>\n",
       "    </tr>\n",
       "    <tr>\n",
       "      <th>296</th>\n",
       "      <td>2019</td>\n",
       "      <td>1</td>\n",
       "      <td>Formosa</td>\n",
       "      <td>29.68</td>\n",
       "    </tr>\n",
       "  </tbody>\n",
       "</table>\n",
       "</div>"
      ],
      "text/plain": [
       "      Año  Trimestre         Provincia Accesos por cada 100 hogares\n",
       "682  2015          1          La Pampa                        55.51\n",
       "22   2022          1  Tierra Del Fuego                        98.29\n",
       "759  2014          2         Río Negro                        45.33\n",
       "665  2015          2          San Juan                        27.64\n",
       "753  2014          2             Jujuy                        18.71\n",
       "419  2017          4          La Rioja                        51.57\n",
       "642  2015          3          San Luis                         9.71\n",
       "695  2015          1           Tucumán                        35.08\n",
       "471  2017          2         Río Negro                        46.02\n",
       "296  2019          1           Formosa                        29.68"
      ]
     },
     "execution_count": 51,
     "metadata": {},
     "output_type": "execute_result"
    }
   ],
   "source": [
    "accesos_cada_100.sample(10)"
   ]
  },
  {
   "cell_type": "code",
   "execution_count": 13,
   "metadata": {},
   "outputs": [],
   "source": [
    "accesos_cada_100['Accesos por cada 100 hogares'] = accesos_cada_100['Accesos por cada 100 hogares'].astype(float)"
   ]
  },
  {
   "cell_type": "code",
   "execution_count": 14,
   "metadata": {},
   "outputs": [
    {
     "data": {
      "text/plain": [
       "Año                               int64\n",
       "Trimestre                         int64\n",
       "Provincia                        string\n",
       "Accesos por cada 100 hogares    float64\n",
       "dtype: object"
      ]
     },
     "execution_count": 14,
     "metadata": {},
     "output_type": "execute_result"
    }
   ],
   "source": [
    "accesos_cada_100.dtypes"
   ]
  },
  {
   "cell_type": "code",
   "execution_count": 15,
   "metadata": {},
   "outputs": [],
   "source": [
    "accesos_cada_100.to_csv('accesos_cada_100.csv')"
   ]
  },
  {
   "cell_type": "code",
   "execution_count": 2,
   "metadata": {},
   "outputs": [],
   "source": [
    "def diferencia_en_porcentaje(a, b):\n",
    "    return ((b/a) * 100) - 100"
   ]
  },
  {
   "cell_type": "code",
   "execution_count": null,
   "metadata": {},
   "outputs": [],
   "source": []
  },
  {
   "cell_type": "code",
   "execution_count": 52,
   "metadata": {},
   "outputs": [],
   "source": [
    "'''\n",
    "df_capital_federal = accesos_cada_100[accesos_cada_100['Provincia'].str.contains('Capital Federal')]\n",
    "df_buenos_aires = accesos_cada_100[accesos_cada_100['Provincia'].str.contains('Buenos Aires')]\n",
    "df_mendoza = accesos_cada_100[accesos_cada_100['Provincia'].str.contains('Mendoza')]\n",
    "df_cordoba = accesos_cada_100[accesos_cada_100['Provincia'].str.contains('Córdoba')]\n",
    "df_la_pampa = accesos_cada_100[accesos_cada_100['Provincia'].str.contains('La Pampa')]\n",
    "df_santa_fe = accesos_cada_100[accesos_cada_100['Provincia'].str.contains('Santa Fe')]\n",
    "df_chubut = accesos_cada_100[accesos_cada_100['Provincia'].str.contains('Chubut')]\n",
    "df_santa_cruz = accesos_cada_100[accesos_cada_100['Provincia'].str.contains('Santa Cruz')]\n",
    "df_jujuy = accesos_cada_100[accesos_cada_100['Provincia'].str.contains('Jujuy')]\n",
    "df_salta = accesos_cada_100[accesos_cada_100['Provincia'].str.contains('Salta')]\n",
    "df_san_luis = accesos_cada_100[accesos_cada_100['Provincia'].str.contains('San Luis')]\n",
    "df_san_juan = accesos_cada_100[accesos_cada_100['Provincia'].str.contains('San Juan')]\n",
    "df_formosa = accesos_cada_100[accesos_cada_100['Provincia'].str.contains('Formosa')]\n",
    "df_entre_rios = accesos_cada_100[accesos_cada_100['Provincia'].str.contains('Entre Ríos')]\n",
    "df_corrientes = accesos_cada_100[accesos_cada_100['Provincia'].str.contains('Corrientes')]\n",
    "df_catamarca = accesos_cada_100[accesos_cada_100['Provincia'].str.contains('Catamarca')]\n",
    "df_santiago = accesos_cada_100[accesos_cada_100['Provincia'].str.contains('Santiago Del Estero')]\n",
    "df_la_rioja = accesos_cada_100[accesos_cada_100['Provincia'].str.contains('La Rioja')]\n",
    "df_nequen = accesos_cada_100[accesos_cada_100['Provincia'].str.contains('Neuquén')]\n",
    "df_tucuman = accesos_cada_100[accesos_cada_100['Provincia'].str.contains('Tucumán')]\n",
    "df_tierra = accesos_cada_100[accesos_cada_100['Provincia'].str.contains('Tierra Del Fuego')]\n",
    "df_misiones = accesos_cada_100[accesos_cada_100['Provincia'].str.contains('Misiones')]\n",
    "df_chaco = accesos_cada_100[accesos_cada_100['Provincia'].str.contains('Chaco')]\n",
    "df_rio_negro = accesos_cada_100[accesos_cada_100['Provincia'].str.contains('Río Negro')]\n",
    "'''"
   ]
  }
 ],
 "metadata": {
  "kernelspec": {
   "display_name": "Python 3",
   "language": "python",
   "name": "python3"
  },
  "language_info": {
   "codemirror_mode": {
    "name": "ipython",
    "version": 3
   },
   "file_extension": ".py",
   "mimetype": "text/x-python",
   "name": "python",
   "nbconvert_exporter": "python",
   "pygments_lexer": "ipython3",
   "version": "3.9.6 (default, Sep 13 2022, 22:03:16) \n[Clang 14.0.0 (clang-1400.0.29.102)]"
  },
  "orig_nbformat": 4,
  "vscode": {
   "interpreter": {
    "hash": "31f2aee4e71d21fbe5cf8b01ff0e069b9275f58929596ceb00d14d90e3e16cd6"
   }
  }
 },
 "nbformat": 4,
 "nbformat_minor": 2
}
